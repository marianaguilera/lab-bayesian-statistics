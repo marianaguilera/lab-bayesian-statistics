{
 "cells": [
  {
   "cell_type": "markdown",
   "metadata": {},
   "source": [
    "# Intro to Bayesian Statistics Lab\n",
    "\n",
    "Complete the following set of exercises to solidify your knowledge of Bayesian statistics and Bayesian data analysis."
   ]
  },
  {
   "cell_type": "code",
   "execution_count": 34,
   "metadata": {},
   "outputs": [],
   "source": [
    "import pandas as pd\n",
    "import numpy as np\n",
    "import matplotlib.pyplot as plt\n",
    "import seaborn as sns"
   ]
  },
  {
   "cell_type": "markdown",
   "metadata": {},
   "source": [
    "## 1. Cookie Problem\n",
    "\n",
    "Suppose we have two bowls of cookies. Bowl 1 contains 30 vanilla cookies and 10 chocolate cookies. Bowl 2 contains 20 of each. You randomly pick one cookie out of one of the bowls, and it is vanilla. Use Bayes Theorem to calculate the probability that the vanilla cookie you picked came from Bowl 1?"
   ]
  },
  {
   "cell_type": "code",
   "execution_count": 10,
   "metadata": {},
   "outputs": [],
   "source": [
    "#Bowl 1 = 30 vainilla y 10 chocolate \n",
    "#Bowl 2 = 20 vainilla y 20 chocolate \n",
    "\n",
    "bolws=[1/2,1/2]\n",
    "probabilidad_vainilla=[3/4,1/2]\n",
    "\n",
    "def bayes(bolws,probabilidad_vainilla):\n",
    "  marginal = sum(np.multiply(bolws,probabilidad_vainilla))\n",
    "  num = np.multiply(bolws,probabilidad_vainilla)\n",
    "  posteriori = np.divide(num, marginal)\n",
    "  return posteriori\n"
   ]
  },
  {
   "cell_type": "code",
   "execution_count": 11,
   "metadata": {},
   "outputs": [
    {
     "data": {
      "text/plain": [
       "array([0.6, 0.4])"
      ]
     },
     "execution_count": 11,
     "metadata": {},
     "output_type": "execute_result"
    }
   ],
   "source": [
    "bayes(bolws,probabilidad_vainilla)"
   ]
  },
  {
   "cell_type": "code",
   "execution_count": null,
   "metadata": {},
   "outputs": [],
   "source": [
    "# La probabilidad de que salga vainilla y que sea del tason 1 es de .06"
   ]
  },
  {
   "cell_type": "markdown",
   "metadata": {},
   "source": [
    "What is the probability that it came from Bowl 2?"
   ]
  },
  {
   "cell_type": "code",
   "execution_count": null,
   "metadata": {},
   "outputs": [],
   "source": [
    "#La probabilida d de que sea de vainilla y que sea del tason 2  es de .04"
   ]
  },
  {
   "cell_type": "markdown",
   "metadata": {},
   "source": [
    "What if the cookie you had picked was chocolate? What are the probabilities that the chocolate cookie came from Bowl 1 and Bowl 2 respectively?"
   ]
  },
  {
   "cell_type": "code",
   "execution_count": 16,
   "metadata": {},
   "outputs": [],
   "source": [
    "bolws=[1/2,1/2]\n",
    "probabilidad_chocolate=[1/4,1/2]\n",
    "\n",
    "def bayes(bolws,probabilidad_chocolate):\n",
    "  marginal = sum(np.multiply(bolws,probabilidad_chocolate))\n",
    "  num = np.multiply(bolws,probabilidad_chocolate)\n",
    "  posteriori = np.divide(num, marginal)\n",
    "  return posteriori"
   ]
  },
  {
   "cell_type": "code",
   "execution_count": 17,
   "metadata": {},
   "outputs": [
    {
     "data": {
      "text/plain": [
       "array([0.33333333, 0.66666667])"
      ]
     },
     "execution_count": 17,
     "metadata": {},
     "output_type": "execute_result"
    }
   ],
   "source": [
    "bayes(bolws,probabilidad_chocolate)"
   ]
  },
  {
   "cell_type": "code",
   "execution_count": null,
   "metadata": {},
   "outputs": [],
   "source": [
    "# La probabilidad de que salga chocolate y que sea del tason 1 es de .3333"
   ]
  },
  {
   "cell_type": "code",
   "execution_count": null,
   "metadata": {},
   "outputs": [],
   "source": [
    "# La probabilidad de que salga chocolate y que sea del tason 1 es de .6666"
   ]
  },
  {
   "cell_type": "markdown",
   "metadata": {},
   "source": [
    "## 2. Candy Problem\n",
    "\n",
    "Suppose you have two bags of candies:\n",
    "\n",
    "- In Bag 1, the mix of colors is:\n",
    "    - Brown - 30%\n",
    "    - Yellow - 20%\n",
    "    - Red - 20%\n",
    "    - Green - 10%\n",
    "    - Orange - 10%\n",
    "    - Tan - 10%\n",
    "    \n",
    "- In Bag 2, the mix of colors is:\n",
    "    - Blue - 24%\n",
    "    - Green - 20%\n",
    "    - Orange - 16%\n",
    "    - Yellow - 14%\n",
    "    - Red - 13%\n",
    "    - Brown - 13%\n",
    "    \n",
    "Not knowing which bag is which, you randomly draw one candy from each bag. One is yellow and one is green. What is the probability that the yellow one came from the Bag 1?\n",
    "\n",
    "*Hint: For the likelihoods, you will need to multiply the probabilities of drawing yellow from one bag and green from the other bag and vice versa.*"
   ]
  },
  {
   "cell_type": "code",
   "execution_count": 19,
   "metadata": {},
   "outputs": [],
   "source": [
    "bag=[1/2,1/2]\n",
    "#  [yelow b1*green b2, green b1*yelow b2]\n",
    "probabilidad=[.2*.2],[.1*.14]"
   ]
  },
  {
   "cell_type": "code",
   "execution_count": 20,
   "metadata": {},
   "outputs": [
    {
     "data": {
      "text/plain": [
       "array([[0.74074074, 0.74074074],\n",
       "       [0.25925926, 0.25925926]])"
      ]
     },
     "execution_count": 20,
     "metadata": {},
     "output_type": "execute_result"
    }
   ],
   "source": [
    "bayes(bag,probabilidad)"
   ]
  },
  {
   "cell_type": "code",
   "execution_count": null,
   "metadata": {},
   "outputs": [],
   "source": [
    "# La probabilidad de que salga amarillo y que venga del tason 1 es de .7474"
   ]
  },
  {
   "cell_type": "markdown",
   "metadata": {},
   "source": [
    "What is the probability that the yellow candy came from Bag 2?"
   ]
  },
  {
   "cell_type": "code",
   "execution_count": null,
   "metadata": {},
   "outputs": [],
   "source": [
    "# La probabilidad de que salga amarillo y que venga del tason 1 es de .2595"
   ]
  },
  {
   "cell_type": "markdown",
   "metadata": {},
   "source": [
    "What are the probabilities that the green one came from Bag 1 and Bag 2 respectively?"
   ]
  },
  {
   "cell_type": "code",
   "execution_count": 21,
   "metadata": {},
   "outputs": [
    {
     "data": {
      "text/plain": [
       "array([[0.25925926, 0.25925926],\n",
       "       [0.74074074, 0.74074074]])"
      ]
     },
     "execution_count": 21,
     "metadata": {},
     "output_type": "execute_result"
    }
   ],
   "source": [
    "probabilidad=[.1*.14],[.2*.2]\n",
    "bayes(bag,probabilidad)"
   ]
  },
  {
   "cell_type": "code",
   "execution_count": null,
   "metadata": {},
   "outputs": [],
   "source": [
    "# La probabilidad de que salga green y que venga del tason 1 es de 0.2592"
   ]
  },
  {
   "cell_type": "code",
   "execution_count": null,
   "metadata": {},
   "outputs": [],
   "source": [
    "# La probabilidad de que salga green y que venga del tason 1 es de 0.7407"
   ]
  },
  {
   "cell_type": "markdown",
   "metadata": {},
   "source": [
    "## 3. Monty Hall Problem\n",
    "\n",
    "Suppose you are a contestant on the popular game show *Let's Make a Deal*. The host of the show (Monty Hall) presents you with three doors - Door A, Door B, and Door C. He tells you that there is a sports car behind one of them and if you choose the correct one, you win the car!\n",
    "\n",
    "You select Door A, but then Monty makes things a little more interesting. He opens Door B to reveal that there is no sports car behind it and asks you if you would like to stick with your choice of Door A or switch your choice to Door C. Given this new information, what are the probabilities of you winning the car if you stick with Door A versus if you switch to Door C?"
   ]
  },
  {
   "cell_type": "code",
   "execution_count": 23,
   "metadata": {},
   "outputs": [],
   "source": [
    "A=1/3\n",
    "print(A)"
   ]
  },
  {
   "cell_type": "code",
   "execution_count": 26,
   "metadata": {},
   "outputs": [
    {
     "name": "stdout",
     "output_type": "stream",
     "text": [
      "0.6666666666666666\n"
     ]
    }
   ],
   "source": [
    "B_or_C = 2/3\n",
    "print(B_or_C)"
   ]
  },
  {
   "cell_type": "markdown",
   "metadata": {},
   "source": [
    "## 4. Bayesian Analysis \n",
    "\n",
    "Suppose you work for a landscaping company, and they want to advertise their service online. They create an ad and sit back waiting for the money to roll in. On the first day, the ad sends 100 visitors to the site and 14 of them sign up for landscaping services. Create a generative model to come up with the posterior distribution and produce a visualization of what the posterior distribution would look like given the observed data."
   ]
  },
  {
   "cell_type": "code",
   "execution_count": 69,
   "metadata": {},
   "outputs": [
    {
     "data": {
      "text/plain": [
       "0      0.132349\n",
       "1      0.199969\n",
       "2      0.791276\n",
       "3      0.481759\n",
       "4      0.143293\n",
       "         ...   \n",
       "995    0.959107\n",
       "996    0.185943\n",
       "997    0.202407\n",
       "998    0.079285\n",
       "999    0.777995\n",
       "Length: 1000, dtype: float64"
      ]
     },
     "execution_count": 69,
     "metadata": {},
     "output_type": "execute_result"
    }
   ],
   "source": [
    "uniform_data = pd.Series(np.random.uniform(0, 1, size=1000))\n",
    "uniform_data"
   ]
  },
  {
   "cell_type": "code",
   "execution_count": 70,
   "metadata": {},
   "outputs": [
    {
     "name": "stdout",
     "output_type": "stream",
     "text": [
      "[16, 20, 82, 55, 14, 43, 79, 79, 100, 68, 4, 19, 47, 17, 80, 48, 96, 77, 49, 10, 82, 70, 79, 42, 72, 100, 34, 73, 10, 69, 38, 19, 76, 36, 13, 46, 70, 39, 77, 54, 1, 53, 69, 40, 60, 97, 26, 64, 63, 3, 57, 54, 96, 69, 47, 43, 93, 73, 93, 46, 23, 95, 90, 100, 39, 100, 19, 19, 37, 37, 6, 79, 34, 83, 73, 11, 89, 91, 61, 88, 2, 51, 16, 37, 95, 37, 82, 80, 2, 89, 69, 29, 0, 64, 71, 64, 72, 91, 44, 50, 63, 97, 40, 28, 55, 34, 20, 78, 51, 16, 57, 49, 63, 18, 25, 25, 28, 1, 7, 59, 36, 36, 6, 6, 73, 63, 82, 29, 70, 36, 87, 57, 99, 65, 8, 69, 33, 2, 26, 17, 98, 81, 88, 96, 19, 65, 22, 14, 3, 10, 69, 19, 62, 18, 5, 79, 99, 80, 4, 90, 39, 64, 60, 83, 24, 49, 30, 70, 43, 1, 89, 82, 34, 52, 11, 69, 79, 15, 64, 59, 46, 88, 71, 12, 16, 24, 71, 56, 50, 0, 13, 36, 77, 59, 92, 86, 43, 56, 80, 3, 68, 58, 33, 8, 73, 5, 33, 25, 63, 64, 4, 18, 74, 2, 1, 44, 23, 18, 28, 28, 36, 12, 13, 98, 85, 70, 69, 56, 55, 67, 49, 37, 18, 23, 71, 91, 1, 61, 15, 81, 7, 5, 55, 15, 34, 74, 41, 92, 84, 20, 60, 47, 27, 37, 19, 18, 73, 100, 50, 20, 50, 59, 4, 90, 14, 49, 65, 73, 97, 90, 75, 27, 1, 19, 98, 75, 95, 11, 4, 17, 94, 83, 29, 92, 82, 49, 27, 79, 56, 82, 40, 25, 66, 93, 86, 17, 66, 19, 37, 44, 66, 47, 29, 68, 100, 85, 75, 25, 75, 53, 94, 75, 14, 33, 41, 40, 61, 9, 33, 10, 21, 93, 30, 37, 53, 6, 44, 69, 30, 73, 45, 9, 95, 4, 76, 43, 36, 7, 58, 66, 91, 100, 86, 37, 71, 1, 85, 51, 71, 88, 77, 40, 98, 17, 81, 34, 89, 59, 82, 22, 39, 25, 44, 46, 19, 5, 34, 65, 1, 75, 48, 43, 15, 37, 7, 46, 3, 43, 36, 67, 100, 71, 94, 60, 26, 3, 78, 1, 5, 83, 74, 62, 19, 92, 55, 90, 47, 24, 97, 46, 14, 47, 50, 44, 81, 54, 36, 21, 28, 44, 46, 34, 32, 32, 96, 46, 62, 36, 67, 38, 22, 43, 14, 54, 81, 10, 71, 46, 61, 54, 68, 13, 67, 31, 82, 14, 8, 55, 49, 67, 28, 70, 17, 91, 52, 29, 17, 81, 55, 31, 24, 27, 35, 35, 33, 66, 62, 78, 85, 1, 99, 29, 100, 29, 14, 91, 16, 96, 62, 73, 34, 15, 81, 26, 12, 57, 81, 17, 74, 61, 49, 25, 42, 81, 97, 6, 83, 7, 48, 38, 35, 15, 0, 54, 58, 67, 13, 38, 40, 10, 9, 63, 97, 5, 4, 91, 97, 88, 30, 44, 89, 30, 65, 72, 80, 83, 34, 19, 33, 15, 52, 92, 12, 89, 88, 36, 15, 20, 16, 34, 32, 28, 59, 80, 89, 80, 85, 49, 15, 25, 47, 70, 73, 69, 28, 19, 87, 54, 74, 59, 99, 41, 19, 8, 29, 70, 46, 3, 87, 87, 2, 12, 29, 67, 11, 80, 20, 36, 55, 16, 6, 35, 54, 41, 100, 9, 83, 37, 40, 25, 5, 7, 0, 86, 72, 23, 99, 7, 0, 81, 96, 84, 67, 74, 50, 8, 30, 69, 24, 61, 41, 51, 8, 79, 16, 18, 88, 19, 51, 72, 39, 89, 23, 66, 63, 38, 68, 44, 99, 91, 39, 23, 25, 50, 70, 62, 43, 64, 88, 76, 67, 1, 69, 40, 51, 66, 34, 97, 64, 51, 7, 33, 29, 34, 49, 84, 94, 26, 69, 33, 36, 75, 80, 16, 92, 3, 12, 9, 98, 14, 62, 69, 63, 18, 95, 95, 97, 36, 92, 8, 78, 58, 71, 91, 35, 55, 71, 94, 84, 66, 52, 1, 63, 24, 96, 14, 92, 31, 50, 56, 32, 59, 60, 78, 77, 25, 28, 99, 38, 93, 79, 13, 74, 30, 1, 25, 78, 63, 11, 37, 3, 25, 77, 24, 10, 69, 90, 18, 16, 56, 56, 80, 87, 18, 31, 22, 0, 83, 98, 51, 93, 50, 58, 35, 50, 20, 12, 1, 40, 28, 89, 48, 22, 14, 26, 23, 53, 4, 55, 40, 30, 5, 49, 87, 59, 64, 88, 39, 53, 82, 87, 42, 33, 1, 91, 14, 61, 55, 59, 21, 18, 67, 19, 66, 12, 90, 21, 95, 89, 33, 98, 26, 92, 60, 22, 85, 43, 31, 22, 72, 93, 59, 94, 51, 34, 100, 72, 3, 72, 86, 41, 75, 100, 90, 70, 67, 66, 42, 2, 30, 27, 60, 14, 91, 39, 8, 65, 29, 99, 37, 63, 55, 81, 21, 8, 35, 92, 54, 92, 40, 55, 60, 54, 8, 36, 29, 84, 95, 62, 99, 36, 51, 50, 38, 36, 49, 26, 42, 50, 29, 13, 20, 1, 41, 16, 100, 43, 11, 45, 71, 7, 4, 26, 33, 32, 52, 39, 45, 36, 90, 32, 19, 24, 30, 81, 71, 84, 25, 54, 24, 4, 16, 79, 39, 41, 32, 44, 1, 61, 83, 10, 86, 67, 41, 74, 62, 24, 70, 10, 56, 51, 44, 15, 29, 28, 58, 76, 16, 63, 80, 28, 48, 10, 12, 98, 40, 52, 65, 72, 53, 4, 93, 85, 29, 52, 99, 63, 83, 90, 53, 40, 85, 60, 81, 43, 63, 60, 76, 44, 57, 69, 88, 6, 93, 0, 42, 98, 12, 23, 76, 45, 23, 28, 22, 59, 11, 13, 59, 33, 97, 24, 84, 43, 3, 51, 13, 49, 77, 65, 5, 40, 39, 27, 72, 19, 53, 79, 28, 1, 62, 19, 21, 36, 25, 53, 45, 58, 40, 43, 74, 54, 30, 30, 95, 56, 99, 18, 21, 8, 74]\n"
     ]
    }
   ],
   "source": [
    "sample = [np.random.binomial(100, i) for i in uniform_data]\n",
    "print(sample)"
   ]
  },
  {
   "cell_type": "code",
   "execution_count": 71,
   "metadata": {},
   "outputs": [
    {
     "data": {
      "text/plain": [
       "4      0.441565\n",
       "147    0.807552\n",
       "264    0.403028\n",
       "312    0.388875\n",
       "400    0.681077\n",
       "422    0.071266\n",
       "435    0.273872\n",
       "464    0.244853\n",
       "659    0.950718\n",
       "685    0.692850\n",
       "743    0.030516\n",
       "765    0.637322\n",
       "812    0.229940\n",
       "dtype: float64"
      ]
     },
     "execution_count": 71,
     "metadata": {},
     "output_type": "execute_result"
    }
   ],
   "source": [
    "sign_up = prior[[i == 14 for i in sample]]\n",
    "sign_up"
   ]
  },
  {
   "cell_type": "markdown",
   "metadata": {},
   "source": [
    "Produce a set of descriptive statistics for the posterior distribution."
   ]
  },
  {
   "cell_type": "code",
   "execution_count": 72,
   "metadata": {},
   "outputs": [
    {
     "data": {
      "image/png": "[encoded data removed]",
      "text/plain": [
       "<Figure size 432x288 with 1 Axes>"
      ]
     },
     "metadata": {
      "needs_background": "light"
     },
     "output_type": "display_data"
    }
   ],
   "source": [
    "sns.distplot(sign_up);"
   ]
  },
  {
   "cell_type": "markdown",
   "metadata": {},
   "source": [
    "What is the 90% credible interval range?"
   ]
  },
  {
   "cell_type": "code",
   "execution_count": 79,
   "metadata": {},
   "outputs": [
    {
     "data": {
      "text/plain": [
       "(0.023313673492969714, 0.9627355527366691)"
      ]
     },
     "execution_count": 79,
     "metadata": {},
     "output_type": "execute_result"
    }
   ],
   "source": [
    "posterior.quantile(.025), posterior.quantile(.975)"
   ]
  },
  {
   "cell_type": "markdown",
   "metadata": {},
   "source": [
    "What is the Maximum Likelihood Estimate?"
   ]
  },
  {
   "cell_type": "code",
   "execution_count": 80,
   "metadata": {},
   "outputs": [],
   "source": [
    "mode = posterior.round(2).mode()[0]\n",
    "probability = list(posterior.round(2)).count(mode)/posterior.shape[0]"
   ]
  },
  {
   "cell_type": "code",
   "execution_count": 81,
   "metadata": {},
   "outputs": [
    {
     "data": {
      "text/plain": [
       "0.86"
      ]
     },
     "execution_count": 81,
     "metadata": {},
     "output_type": "execute_result"
    }
   ],
   "source": [
    "mode"
   ]
  },
  {
   "cell_type": "code",
   "execution_count": 82,
   "metadata": {},
   "outputs": [
    {
     "data": {
      "text/plain": [
       "0.13333333333333333"
      ]
     },
     "execution_count": 82,
     "metadata": {},
     "output_type": "execute_result"
    }
   ],
   "source": [
    "probability"
   ]
  },
  {
   "cell_type": "code",
   "execution_count": null,
   "metadata": {},
   "outputs": [],
   "source": []
  }
 ],
 "metadata": {
  "kernelspec": {
   "display_name": "Python 3",
   "language": "python",
   "name": "python3"
  },
  "language_info": {
   "codemirror_mode": {
    "name": "ipython",
    "version": 3
   },
   "file_extension": ".py",
   "mimetype": "text/x-python",
   "name": "python",
   "nbconvert_exporter": "python",
   "pygments_lexer": "ipython3",
   "version": "3.8.3"
  }
 },
 "nbformat": 4,
 "nbformat_minor": 2
}
